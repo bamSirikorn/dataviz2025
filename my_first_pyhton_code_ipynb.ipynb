{
  "nbformat": 4,
  "nbformat_minor": 0,
  "metadata": {
    "colab": {
      "provenance": [],
      "toc_visible": true,
      "authorship_tag": "ABX9TyM5lhEFWxLm9S0gjUDlQe7I",
      "include_colab_link": true
    },
    "kernelspec": {
      "name": "python3",
      "display_name": "Python 3"
    },
    "language_info": {
      "name": "python"
    }
  },
  "cells": [
    {
      "cell_type": "markdown",
      "metadata": {
        "id": "view-in-github",
        "colab_type": "text"
      },
      "source": [
        "<a href=\"https://colab.research.google.com/github/bamSirikorn/dataviz2025/blob/main/my_first_pyhton_code_ipynb.ipynb\" target=\"_parent\"><img src=\"https://colab.research.google.com/assets/colab-badge.svg\" alt=\"Open In Colab\"/></a>"
      ]
    },
    {
      "cell_type": "markdown",
      "source": [
        "Here can write using **markdown**\n",
        "# intro"
      ],
      "metadata": {
        "id": "_ZYOyLuaH3xY"
      }
    },
    {
      "cell_type": "markdown",
      "source": [
        "##name"
      ],
      "metadata": {
        "id": "hTXLK7vsIVyd"
      }
    },
    {
      "cell_type": "code",
      "source": [
        "print(\"Sirikorn\")"
      ],
      "metadata": {
        "colab": {
          "base_uri": "https://localhost:8080/"
        },
        "id": "f4TMIFJDI7AO",
        "outputId": "2090a71c-62a6-4249-a6bd-ea1ac014f5fe"
      },
      "execution_count": null,
      "outputs": [
        {
          "output_type": "stream",
          "name": "stdout",
          "text": [
            "Sirikorn\n"
          ]
        }
      ]
    },
    {
      "cell_type": "markdown",
      "source": [
        "##surname"
      ],
      "metadata": {
        "id": "LuGGbyTAITt1"
      }
    },
    {
      "cell_type": "code",
      "source": [
        "print(\"Butwong\")"
      ],
      "metadata": {
        "colab": {
          "base_uri": "https://localhost:8080/"
        },
        "id": "mzWNTbERIzyu",
        "outputId": "bf4b5b58-144c-41d0-9d81-ccb0bce6b01c"
      },
      "execution_count": null,
      "outputs": [
        {
          "output_type": "stream",
          "name": "stdout",
          "text": [
            "Butwong\n"
          ]
        }
      ]
    }
  ]
}